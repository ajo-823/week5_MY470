{
 "cells": [
  {
   "cell_type": "markdown",
   "metadata": {},
   "source": [
    "## Exercise 1:\n",
    "Work with the person next to you to design classes to manage the products, customers, and purchase orders for an online book store such as amazon.com. Outline the data attributes and useful methods for each class. You can discuss and create the outline together. "
   ]
  },
  {
   "cell_type": "code",
   "execution_count": 2,
   "metadata": {},
   "outputs": [],
   "source": [
    "class Bookstore(object):\n",
    "    def __init__(self,bookstore):\n",
    "        self.bookstore = bookstore\n",
    "\n",
    "class Products(Bookstore):\n",
    "    def __init__(self,products):\n",
    "        self.products = products       \n",
    "\n",
    "class Customers(Bookstore):\n",
    "    def __init__(self,customers):\n",
    "        self.customers = customers\n",
    "\n",
    "class Orders(Bookstore):\n",
    "    def __init__(self,orders):\n",
    "        self.orders = orders"
   ]
  },
  {
   "cell_type": "code",
   "execution_count": 4,
   "metadata": {},
   "outputs": [
    {
     "name": "stdout",
     "output_type": "stream",
     "text": [
      "testing git pull request\n",
      "created new branch alexis to make this change\n"
     ]
    }
   ],
   "source": [
    "Bookstore(\"Amazon\")\n",
    "print(\"testing git pull request\")\n",
    "print(\"created new branch alexis to make this change\")"
   ]
  }
 ],
 "metadata": {
  "kernelspec": {
   "display_name": "Python 3",
   "language": "python",
   "name": "python3"
  },
  "language_info": {
   "codemirror_mode": {
    "name": "ipython",
    "version": 3
   },
   "file_extension": ".py",
   "mimetype": "text/x-python",
   "name": "python",
   "nbconvert_exporter": "python",
   "pygments_lexer": "ipython3",
   "version": "3.11.4"
  }
 },
 "nbformat": 4,
 "nbformat_minor": 2
}
